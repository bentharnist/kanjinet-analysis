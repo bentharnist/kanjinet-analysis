{
 "cells": [
  {
   "cell_type": "code",
   "execution_count": 1,
   "id": "encouraging-carroll",
   "metadata": {},
   "outputs": [],
   "source": [
    "import os\n",
    "from jamdict import Jamdict\n",
    "import networkx as nx\n",
    "import pandas as pd\n",
    "import matplotlib.pyplot as plt"
   ]
  },
  {
   "cell_type": "code",
   "execution_count": 2,
   "id": "ultimate-border",
   "metadata": {},
   "outputs": [],
   "source": [
    "import kanjinet_rw as kn"
   ]
  },
  {
   "cell_type": "code",
   "execution_count": 3,
   "id": "ranging-formula",
   "metadata": {},
   "outputs": [],
   "source": [
    "jmd = Jamdict()\n",
    "df_jouyou = pd.read_csv('data/onyomi_statistics.csv', sep='\\t',names=['kanji','read'])\n",
    "list_jouyou = list(df_jouyou[\"kanji\"])"
   ]
  },
  {
   "cell_type": "code",
   "execution_count": 4,
   "id": "crude-dodge",
   "metadata": {
    "scrolled": true
   },
   "outputs": [],
   "source": [
    "G = kn.gen_dag(kanji_list=list_jouyou, soft=True, loners=True)"
   ]
  },
  {
   "cell_type": "code",
   "execution_count": 5,
   "id": "arbitrary-photograph",
   "metadata": {},
   "outputs": [
    {
     "data": {
      "text/plain": [
       "list"
      ]
     },
     "execution_count": 5,
     "metadata": {},
     "output_type": "execute_result"
    }
   ],
   "source": [
    "iter_res = kn.lookup_kanjidic(list_jouyou)\n"
   ]
  },
  {
   "cell_type": "code",
   "execution_count": null,
   "id": "naughty-feeding",
   "metadata": {},
   "outputs": [],
   "source": [
    "'''fig, ax = plt.subplots(figsize=(10,10))\n",
    "nx.draw_networkx(G, pos, with_labels=False, arrowsize=6,font_size=13,font_family=\"TakaoGothic\" , ax=ax, node_size=0, width=0.01)\n",
    "fig.show()'''"
   ]
  },
  {
   "cell_type": "code",
   "execution_count": null,
   "id": "expensive-tsunami",
   "metadata": {},
   "outputs": [],
   "source": [
    "'''from collections import Counter\n",
    "\n",
    "plt.figure()\n",
    "degrees = [G.degree(n) for n in G.nodes()]\n",
    "in_degrees = [G.in_degree(n) for n in G.nodes()]\n",
    "out_degrees = [G.out_degree(n) for n in G.nodes()]\n",
    "\n",
    "degree, count = zip(*sorted(dict(Counter(degrees)).items(), key=lambda tup: tup[0]))\n",
    "in_degree, in_count = zip(*sorted(dict(Counter(in_degrees)).items(), key=lambda tup: tup[0]))\n",
    "out_degree, out_count = zip(*sorted(dict(Counter(out_degrees)).items(), key=lambda tup: tup[0]))\n",
    "\n",
    "plt.loglog(degree,count,'*y', label=\"total\")\n",
    "plt.loglog(in_degree,in_count,'^r', label=\"in\")\n",
    "plt.loglog(out_degree,out_count,'ob', label=\"out\")\n",
    "\n",
    "plt.xlabel(\"node degree\")\n",
    "plt.ylabel(\"count\")\n",
    "plt.title(\"Degree distribution of DAG-2k\")\n",
    "plt.legend()\n",
    "plt.show()'''"
   ]
  }
 ],
 "metadata": {
  "kernelspec": {
   "display_name": "Python 3",
   "language": "python",
   "name": "python3"
  },
  "language_info": {
   "codemirror_mode": {
    "name": "ipython",
    "version": 3
   },
   "file_extension": ".py",
   "mimetype": "text/x-python",
   "name": "python",
   "nbconvert_exporter": "python",
   "pygments_lexer": "ipython3",
   "version": "3.8.5"
  }
 },
 "nbformat": 4,
 "nbformat_minor": 5
}
