{
 "cells": [
  {
   "cell_type": "code",
   "execution_count": 37,
   "id": "completed-drunk",
   "metadata": {},
   "outputs": [],
   "source": [
    "from jamdict import Jamdict\n",
    "import matplotlib.pyplot as plt\n",
    "import pandas as pd\n",
    "import numpy as np"
   ]
  },
  {
   "cell_type": "code",
   "execution_count": 7,
   "id": "collective-frontier",
   "metadata": {},
   "outputs": [],
   "source": [
    "jmd = Jamdict()\n",
    "\n",
    "# has kanji: str, read\n",
    "df_jouyou = pd.read_csv('../data/onyomi_statistics.csv', sep='\\t',names=['kanji','read'])"
   ]
  },
  {
   "cell_type": "code",
   "execution_count": null,
   "id": "cooperative-bathroom",
   "metadata": {},
   "outputs": [],
   "source": [
    "str_jouyou = \"\".join(df_jouyou[\"kanji\"].to_list())\n",
    "\n",
    "res_test = jmd.lookup(str_jouyou)"
   ]
  },
  {
   "cell_type": "code",
   "execution_count": 133,
   "id": "normal-lewis",
   "metadata": {},
   "outputs": [
    {
     "ename": "AttributeError",
     "evalue": "'list' object has no attribute 'literal'",
     "output_type": "error",
     "traceback": [
      "\u001b[0;31m---------------------------------------------------------------------------\u001b[0m",
      "\u001b[0;31mAttributeError\u001b[0m                            Traceback (most recent call last)",
      "\u001b[0;32m<ipython-input-133-2b74af3c98ce>\u001b[0m in \u001b[0;36m<module>\u001b[0;34m\u001b[0m\n\u001b[0;32m----> 1\u001b[0;31m \u001b[0mjmd\u001b[0m\u001b[0;34m.\u001b[0m\u001b[0mlookup\u001b[0m\u001b[0;34m(\u001b[0m\u001b[0;34m\"一\"\u001b[0m\u001b[0;34m)\u001b[0m\u001b[0;34m.\u001b[0m\u001b[0mchars\u001b[0m\u001b[0;34m.\u001b[0m\u001b[0mliteral\u001b[0m\u001b[0;34m\u001b[0m\u001b[0;34m\u001b[0m\u001b[0m\n\u001b[0m",
      "\u001b[0;31mAttributeError\u001b[0m: 'list' object has no attribute 'literal'"
     ]
    }
   ],
   "source": [
    "jmd.lookup(\"一\").chars.literal"
   ]
  },
  {
   "cell_type": "code",
   "execution_count": null,
   "id": "amended-process",
   "metadata": {},
   "outputs": [],
   "source": [
    "stroke_counts = np.zeros((len(str_jouyou)))\n",
    "for i,r in enumerate(res_test.chars):\n",
    "    stroke_counts[i] = r.stroke_count"
   ]
  },
  {
   "cell_type": "code",
   "execution_count": 61,
   "id": "korean-closing",
   "metadata": {},
   "outputs": [
    {
     "data": {
      "image/png": "[encoded data removed]",
      "text/plain": [
       "<Figure size 432x288 with 1 Axes>"
      ]
     },
     "metadata": {
      "needs_background": "light"
     },
     "output_type": "display_data"
    }
   ],
   "source": [
    "plt.hist(stroke_counts, bins=28)\n",
    "plt.xlabel(\"stroke count\")\n",
    "plt.ylabel(\"count in jouyou\")\n",
    "plt.show()"
   ]
  },
  {
   "cell_type": "code",
   "execution_count": 111,
   "id": "moral-following",
   "metadata": {},
   "outputs": [
    {
     "name": "stdout",
     "output_type": "stream",
     "text": [
      "915\n",
      "730\n",
      "181\n",
      "103\n",
      "2059\n"
     ]
    },
    {
     "data": {
      "image/png": "[encoded data removed]",
      "text/plain": [
       "<Figure size 432x288 with 1 Axes>"
      ]
     },
     "metadata": {
      "needs_background": "light"
     },
     "output_type": "display_data"
    }
   ],
   "source": [
    "n1 = list(filter(lambda x:x.jlpt==\"1\",res_test.chars))\n",
    "n1 = list(map(lambda x: x.stroke_count, n1))\n",
    "print(len(n1))\n",
    "n2 = list(filter(lambda x:x.jlpt==\"2\",res_test.chars))\n",
    "n2 = list(map(lambda x: x.stroke_count, n2))\n",
    "print(len(n2))\n",
    "n3 = list(filter(lambda x:x.jlpt==\"3\",res_test.chars))\n",
    "n3 = list(map(lambda x: x.stroke_count, n3))\n",
    "print(len(n3))\n",
    "n4 = list(filter(lambda x:x.jlpt==\"4\",res_test.chars))\n",
    "n4 = list(map(lambda x: x.stroke_count, n4))\n",
    "print(len(n4))\n",
    "print(len(df_jouyou))\n",
    "nx = list(filter(lambda x:x.jlpt!=\"4\" and x.jlpt!=\"3\" and x.jlpt!=\"2\" and x.jlpt!=\"1\",res_test.chars))\n",
    "nx = list(map(lambda x: x.stroke_count, nx))\n",
    "\n",
    "#cs = [\"r\",\"b\",\"g\",\"y\",\"k\"]\n",
    "ls = [n1,n2,n3,n4,nx]\n",
    "    \n",
    "plt.hist(ls, bins=28, stacked=True)\n",
    "plt.xlabel(\"stroke count\")\n",
    "plt.ylabel(\"count in jouyou\")\n",
    "plt.legend([\"n1\", \"n2\", \"n3\", \"n4\", \"?\"])\n",
    "plt.title(\"Stroke count vs JLPT level\")\n",
    "plt.show()"
   ]
  },
  {
   "cell_type": "markdown",
   "id": "valid-sullivan",
   "metadata": {},
   "source": [
    "It is clearly seen that higher JLPT levels have kanji with higher stroke counts"
   ]
  },
  {
   "cell_type": "code",
   "execution_count": 127,
   "id": "personal-diana",
   "metadata": {},
   "outputs": [
    {
     "name": "stdout",
     "output_type": "stream",
     "text": [
      "11.486338797814208 23\n",
      "9.971232876712328 20\n",
      "8.823204419889503 18\n",
      "6.194174757281553 14\n",
      "11.976923076923077 29\n",
      "n1->n2->n3->n4->other\n"
     ]
    }
   ],
   "source": [
    "for l in ls:\n",
    "    print(sum(l)/len(l), max(l))\n",
    "print(\"n1->n2->n3->n4->other\")"
   ]
  },
  {
   "cell_type": "markdown",
   "id": "handy-houston",
   "metadata": {},
   "source": [
    "Numerically this holds too"
   ]
  },
  {
   "cell_type": "code",
   "execution_count": null,
   "id": "together-aluminum",
   "metadata": {},
   "outputs": [],
   "source": []
  },
  {
   "cell_type": "code",
   "execution_count": null,
   "id": "prostate-overhead",
   "metadata": {},
   "outputs": [],
   "source": []
  }
 ],
 "metadata": {
  "kernelspec": {
   "display_name": "Python 3",
   "language": "python",
   "name": "python3"
  },
  "language_info": {
   "codemirror_mode": {
    "name": "ipython",
    "version": 3
   },
   "file_extension": ".py",
   "mimetype": "text/x-python",
   "name": "python",
   "nbconvert_exporter": "python",
   "pygments_lexer": "ipython3",
   "version": "3.8.5"
  }
 },
 "nbformat": 4,
 "nbformat_minor": 5
}
