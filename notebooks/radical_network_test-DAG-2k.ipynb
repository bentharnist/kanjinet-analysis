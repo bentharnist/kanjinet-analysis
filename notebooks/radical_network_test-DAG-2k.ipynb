{
 "cells": [
  {
   "cell_type": "markdown",
   "id": "cloudy-exchange",
   "metadata": {},
   "source": [
    "Let's build a directed acyclic graph (DAG) of 常用 kanji relations through their radicals"
   ]
  },
  {
   "cell_type": "code",
   "execution_count": 5,
   "id": "heard-timing",
   "metadata": {},
   "outputs": [],
   "source": [
    "from jamdict import Jamdict\n",
    "import networkx as nx\n",
    "import matplotlib.pyplot as plt\n",
    "import matplotlib\n",
    "import pandas as pd\n",
    "#matplotlib.font_manager._rebuild()\n",
    "\n",
    "font_path = \"/usr/share/fonts/truetype/takao-gothic/TakaoGothic.ttf\"\n",
    "my_font = matplotlib.font_manager.FontProperties(fname=font_path)\n",
    "matplotlib.rcParams['font.family'] = my_font.get_name()"
   ]
  },
  {
   "cell_type": "code",
   "execution_count": 6,
   "id": "productive-heater",
   "metadata": {},
   "outputs": [
    {
     "data": {
      "text/plain": [
       "['TakaoGothic']"
      ]
     },
     "execution_count": 6,
     "metadata": {},
     "output_type": "execute_result"
    }
   ],
   "source": [
    "my_font.get_family()"
   ]
  },
  {
   "cell_type": "markdown",
   "id": "junior-vault",
   "metadata": {},
   "source": [
    "Next, initialize all the important stuff"
   ]
  },
  {
   "cell_type": "code",
   "execution_count": 7,
   "id": "persistent-location",
   "metadata": {},
   "outputs": [],
   "source": [
    "jmd = Jamdict()\n",
    "kanjis = jmd.krad\n",
    "G = nx.DiGraph()\n",
    "df_jouyou = pd.read_csv('../data/onyomi_statistics.csv', sep='\\t',names=['kanji','read'])\n",
    "jouyou = list(df_jouyou['kanji'])"
   ]
  },
  {
   "cell_type": "markdown",
   "id": "proved-forum",
   "metadata": {},
   "source": [
    "Building the DAG. We crawl the Kanjis one-by-one and add an edge from the component to the kanji, provided the component (radical) is a kanji itself."
   ]
  },
  {
   "cell_type": "code",
   "execution_count": null,
   "id": "burning-olive",
   "metadata": {},
   "outputs": [],
   "source": []
  },
  {
   "cell_type": "code",
   "execution_count": 9,
   "id": "better-metabolism",
   "metadata": {},
   "outputs": [],
   "source": [
    "for k in jouyou:\n",
    "    neighPool = kanjis[k]\n",
    "    for n in neighPool:\n",
    "        if n in jouyou and not G.has_edge(n,k) and n != k:\n",
    "            G.add_edge(n,k)"
   ]
  },
  {
   "cell_type": "code",
   "execution_count": 10,
   "id": "logical-mistress",
   "metadata": {},
   "outputs": [],
   "source": [
    "pos = nx.spring_layout(G)"
   ]
  },
  {
   "cell_type": "code",
   "execution_count": 1,
   "id": "completed-amsterdam",
   "metadata": {
    "scrolled": true
   },
   "outputs": [
    {
     "data": {
      "text/plain": [
       "'fig, ax = plt.subplots(figsize=(50,50))\\nnx.draw_networkx(G, pos, with_labels=True, arrowsize=6,font_size=13,font_family=\"TakaoGothic\" , ax=ax, node_size=0, width=0.05)\\nfig.savefig(\"dag_2k_strict_big.png\")'"
      ]
     },
     "execution_count": 1,
     "metadata": {},
     "output_type": "execute_result"
    }
   ],
   "source": [
    "'''fig, ax = plt.subplots(figsize=(50,50))\n",
    "nx.draw_networkx(G, pos, with_labels=True, arrowsize=6,font_size=13,font_family=\"TakaoGothic\" , ax=ax, node_size=0, width=0.05)\n",
    "fig.savefig(\"dag_2k_strict_big.png\")'''"
   ]
  },
  {
   "cell_type": "code",
   "execution_count": 108,
   "id": "forward-steam",
   "metadata": {},
   "outputs": [
    {
     "data": {
      "text/plain": [
       "1897"
      ]
     },
     "execution_count": 108,
     "metadata": {},
     "output_type": "execute_result"
    }
   ],
   "source": [
    "len(G.nodes)"
   ]
  },
  {
   "cell_type": "code",
   "execution_count": 101,
   "id": "wanted-indiana",
   "metadata": {},
   "outputs": [
    {
     "data": {
      "text/plain": [
       "3701"
      ]
     },
     "execution_count": 101,
     "metadata": {},
     "output_type": "execute_result"
    }
   ],
   "source": [
    "len(G.edges)"
   ]
  },
  {
   "cell_type": "code",
   "execution_count": 58,
   "id": "interested-chocolate",
   "metadata": {},
   "outputs": [
    {
     "data": {
      "text/plain": [
       "{'大', '犬', '言'}"
      ]
     },
     "execution_count": 58,
     "metadata": {},
     "output_type": "execute_result"
    }
   ],
   "source": [
    "nx.ancestors(G,\"獄\")"
   ]
  },
  {
   "cell_type": "code",
   "execution_count": 63,
   "id": "color-reserve",
   "metadata": {},
   "outputs": [
    {
     "data": {
      "text/plain": [
       "{'伏', '然', '燃', '状', '献', '獄', '獣', '黙'}"
      ]
     },
     "execution_count": 63,
     "metadata": {},
     "output_type": "execute_result"
    }
   ],
   "source": [
    "nx.descendants(G,\"犬\")"
   ]
  },
  {
   "cell_type": "code",
   "execution_count": 106,
   "id": "international-actress",
   "metadata": {},
   "outputs": [
    {
     "data": {
      "text/plain": [
       "True"
      ]
     },
     "execution_count": 106,
     "metadata": {},
     "output_type": "execute_result"
    }
   ],
   "source": [
    "nx.is_directed_acyclic_graph(G)"
   ]
  },
  {
   "cell_type": "code",
   "execution_count": 107,
   "id": "premium-tulsa",
   "metadata": {},
   "outputs": [
    {
     "data": {
      "text/plain": [
       "['文', '斉', '済']"
      ]
     },
     "execution_count": 107,
     "metadata": {},
     "output_type": "execute_result"
    }
   ],
   "source": [
    "nx.dag_longest_path(G)"
   ]
  },
  {
   "cell_type": "markdown",
   "id": "biblical-timer",
   "metadata": {},
   "source": [
    "So paths are very short, this would mean that this network is very wide and shallow. This is a consequence of only taking jouyou radicals. So more depth will be acquired by taking non-jouyou (Kanji only ??) radicals of Jouyou kanji too. "
   ]
  },
  {
   "cell_type": "code",
   "execution_count": 16,
   "id": "rocky-lawyer",
   "metadata": {},
   "outputs": [
    {
     "data": {
      "image/png": "[encoded data removed]",
      "text/plain": [
       "<Figure size 432x288 with 1 Axes>"
      ]
     },
     "metadata": {
      "needs_background": "light"
     },
     "output_type": "display_data"
    }
   ],
   "source": [
    "from collections import Counter\n",
    "\n",
    "plt.figure()\n",
    "degrees = [G.degree(n) for n in G.nodes()]\n",
    "in_degrees = [G.in_degree(n) for n in G.nodes()]\n",
    "out_degrees = [G.out_degree(n) for n in G.nodes()]\n",
    "\n",
    "degree, count = zip(*sorted(dict(Counter(degrees)).items(), key=lambda tup: tup[0]))\n",
    "in_degree, in_count = zip(*sorted(dict(Counter(in_degrees)).items(), key=lambda tup: tup[0]))\n",
    "out_degree, out_count = zip(*sorted(dict(Counter(out_degrees)).items(), key=lambda tup: tup[0]))\n",
    "\n",
    "plt.loglog(degree,count,'*y', label=\"total\")\n",
    "plt.loglog(in_degree,in_count,'^r', label=\"in\")\n",
    "plt.loglog(out_degree,out_count,'ob', label=\"out\")\n",
    "\n",
    "plt.xlabel(\"node degree\")\n",
    "plt.ylabel(\"count\")\n",
    "plt.title(\"Degree distribution of DAG-2k\")\n",
    "plt.legend()\n",
    "plt.show()"
   ]
  },
  {
   "cell_type": "code",
   "execution_count": 1,
   "id": "ceramic-framework",
   "metadata": {},
   "outputs": [],
   "source": [
    "import os"
   ]
  },
  {
   "cell_type": "code",
   "execution_count": 2,
   "id": "south-manchester",
   "metadata": {},
   "outputs": [
    {
     "data": {
      "text/plain": [
       "'fig, ax = plt.subplots(figsize=(50,50))\\nnx.draw_networkx(G, pos, with_labels=True, node_color=out_degrees,cmap=\"summer\" ,arrowsize=6,font_size=13,font_family=\"TakaoGothic\",font_color=\"w\" , ax=ax, node_size=240, width=0.05)\\nfig.savefig(\"dag_2k_strict_big_color.png\")'"
      ]
     },
     "execution_count": 2,
     "metadata": {},
     "output_type": "execute_result"
    }
   ],
   "source": [
    "'''fig, ax = plt.subplots(figsize=(50,50))\n",
    "nx.draw_networkx(G, pos, with_labels=True, node_color=out_degrees,cmap=\"summer\" ,arrowsize=6,font_size=13,font_family=\"TakaoGothic\",font_color=\"w\" , ax=ax, node_size=240, width=0.05)\n",
    "fig.savefig(\"dag_2k_strict_big_color.png\")'''"
   ]
  }
 ],
 "metadata": {
  "kernelspec": {
   "display_name": "Python 3",
   "language": "python",
   "name": "python3"
  },
  "language_info": {
   "codemirror_mode": {
    "name": "ipython",
    "version": 3
   },
   "file_extension": ".py",
   "mimetype": "text/x-python",
   "name": "python",
   "nbconvert_exporter": "python",
   "pygments_lexer": "ipython3",
   "version": "3.8.5"
  }
 },
 "nbformat": 4,
 "nbformat_minor": 5
}
